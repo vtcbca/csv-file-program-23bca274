{
 "cells": [
  {
   "cell_type": "code",
   "execution_count": null,
   "id": "bd979136-4315-47c9-8f57-ca980ec42cba",
   "metadata": {},
   "outputs": [],
   "source": [
    "### Accessing data from "
   ]
  },
  {
   "cell_type": "code",
   "execution_count": 1,
   "id": "3bb3fa68-3b14-4096-b0e0-f35704c4082e",
   "metadata": {},
   "outputs": [],
   "source": [
    "import csv"
   ]
  },
  {
   "cell_type": "code",
   "execution_count": 2,
   "id": "a41d9489-8bdf-4049-ac5a-a527057d0176",
   "metadata": {},
   "outputs": [
    {
     "name": "stdout",
     "output_type": "stream",
     "text": [
      "['student_id', 'student_name', 'python', 'oop', 'stat', 'iks', 'mil']\n",
      "['1', 'om', '78', '88', '67', '55', '90']\n",
      "['2', 'sai', '58', '80', '61', '25', '78']\n",
      "['3', 'ram', '45', '76', '60', '45', '72']\n",
      "['4', 'roy', '58', '70', '69', '78', '76']\n",
      "['5', 'joy', '66', '61', '50', '79', '71']\n",
      "['6', 'smith', '54', '63', '80', '65', '45']\n",
      "['7', 'mark', '40', '61', '60', '75', '90']\n",
      "['8', 'alice', '69', '72', '84', '73', '87']\n",
      "['9', 'jack', '50', '53', '76', '56', '83']\n",
      "['10', 'krish', '44', '20', '55', '75', '40']\n"
     ]
    }
   ],
   "source": [
    "f=open(\"D:\\\\sqlite\\\\csv\\\\result.csv\",\"r\") \n",
    "r=csv.reader(f)\n",
    "for row in r:\n",
    "    print(row) "
   ]
  },
  {
   "cell_type": "code",
   "execution_count": 3,
   "id": "7e39a3b5-52d6-4189-b36e-555d9206492b",
   "metadata": {},
   "outputs": [],
   "source": [
    "f.close()"
   ]
  },
  {
   "cell_type": "code",
   "execution_count": 4,
   "id": "07ff2d1b-a065-4d38-91dc-dfddd980390d",
   "metadata": {},
   "outputs": [
    {
     "ename": "KeyError",
     "evalue": "2",
     "output_type": "error",
     "traceback": [
      "\u001b[1;31m---------------------------------------------------------------------------\u001b[0m",
      "\u001b[1;31mKeyError\u001b[0m                                  Traceback (most recent call last)",
      "Cell \u001b[1;32mIn[4], line 4\u001b[0m\n\u001b[0;32m      2\u001b[0m row \u001b[38;5;241m=\u001b[39m csv\u001b[38;5;241m.\u001b[39mDictReader(f)\n\u001b[0;32m      3\u001b[0m \u001b[38;5;28;01mfor\u001b[39;00m r \u001b[38;5;129;01min\u001b[39;00m row:\n\u001b[1;32m----> 4\u001b[0m     total\u001b[38;5;241m=\u001b[39m\u001b[43mr\u001b[49m\u001b[43m[\u001b[49m\u001b[38;5;241;43m2\u001b[39;49m\u001b[43m]\u001b[49m\u001b[38;5;241m+\u001b[39mr[\u001b[38;5;241m3\u001b[39m]\u001b[38;5;241m+\u001b[39mr[\u001b[38;5;241m4\u001b[39m]\u001b[38;5;241m+\u001b[39mr[\u001b[38;5;241m5\u001b[39m]\u001b[38;5;241m+\u001b[39mr[\u001b[38;5;241m6\u001b[39m]\n\u001b[0;32m      5\u001b[0m     per\u001b[38;5;241m=\u001b[39mtotal\u001b[38;5;241m/\u001b[39m\u001b[38;5;241m5\u001b[39m\n",
      "\u001b[1;31mKeyError\u001b[0m: 2"
     ]
    }
   ],
   "source": [
    "with open(\"D:\\\\sqlite\\\\csv\\\\result.csv\",\"r\") as f:\n",
    "    row = csv.DictReader(f)\n",
    "    for r in row:\n",
    "        total=r[2]+r[3]+r[4]+r[5]+r[6]\n",
    "        per=total/5"
   ]
  },
  {
   "cell_type": "code",
   "execution_count": null,
   "id": "7c56bb61-ff2d-4b4e-ad33-b0e797da1d7d",
   "metadata": {},
   "outputs": [],
   "source": []
  }
 ],
 "metadata": {
  "kernelspec": {
   "display_name": "Python 3 (ipykernel)",
   "language": "python",
   "name": "python3"
  },
  "language_info": {
   "codemirror_mode": {
    "name": "ipython",
    "version": 3
   },
   "file_extension": ".py",
   "mimetype": "text/x-python",
   "name": "python",
   "nbconvert_exporter": "python",
   "pygments_lexer": "ipython3",
   "version": "3.12.3"
  }
 },
 "nbformat": 4,
 "nbformat_minor": 5
}
